{
 "cells": [
  {
   "cell_type": "code",
   "execution_count": 1,
   "metadata": {},
   "outputs": [],
   "source": [
    "import numpy as np"
   ]
  },
  {
   "cell_type": "code",
   "execution_count": 4,
   "metadata": {},
   "outputs": [],
   "source": [
    "splits=np.load(\"splits.npz\")"
   ]
  },
  {
   "cell_type": "code",
   "execution_count": 9,
   "metadata": {},
   "outputs": [
    {
     "data": {
      "text/plain": [
       "array([ 430,  512,   70,  395,  737,  630,   11,  709,  478,  894,  719,\n",
       "        842,  392,  680,  131,  322,  626,  292,  916,  197,  560,  847,\n",
       "        966, 1002,  216,  531,  426,  312,  812,   26,  319, 1028,  290,\n",
       "       1042, 1012,  451,  155,  532,  948,  780, 1071,  820,   56,  399,\n",
       "        708,  207,  841,  957,  553,  326,  794,  752,  444, 1052,  435,\n",
       "        173,  431,  503, 1121, 1059,   47,  689,  393,   86, 1084,  296,\n",
       "        439,  667,  106,  582,  584,  814,  117,   57,  936,  668,  730,\n",
       "        423, 1111,  251,  448,  609,  684, 1017,  900,  829, 1081,  282,\n",
       "         64, 1001,  146,  979,  618,  872,  977,  886,   42,   79,  883,\n",
       "        845], dtype=int64)"
      ]
     },
     "execution_count": 9,
     "metadata": {},
     "output_type": "execute_result"
    }
   ],
   "source": [
    "dict(splits)[\"idx_val\"]"
   ]
  },
  {
   "cell_type": "code",
   "execution_count": null,
   "metadata": {},
   "outputs": [],
   "source": []
  }
 ],
 "metadata": {
  "kernelspec": {
   "display_name": "pvd",
   "language": "python",
   "name": "python3"
  },
  "language_info": {
   "codemirror_mode": {
    "name": "ipython",
    "version": 3
   },
   "file_extension": ".py",
   "mimetype": "text/x-python",
   "name": "python",
   "nbconvert_exporter": "python",
   "pygments_lexer": "ipython3",
   "version": "3.9.10"
  },
  "orig_nbformat": 4
 },
 "nbformat": 4,
 "nbformat_minor": 2
}
