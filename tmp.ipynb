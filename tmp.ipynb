{
 "cells": [
  {
   "cell_type": "code",
   "execution_count": 23,
   "metadata": {},
   "outputs": [],
   "source": [
    "import numpy as np\n",
    "from rdkit.Chem import AllChem\n",
    "from rdkit.Chem import rdchem\n",
    "#from pahelix.utils.compound_tools import *\n",
    "#from pahelix.datasets.inmemory_dataset import InMemoryDataset\n",
    "from rdkit import rdBase\n",
    "import numpy as np\n",
    "rdBase.rdkitVersion\n",
    "import pandas as pd\n",
    "import pickle\n"
   ]
  },
  {
   "cell_type": "code",
   "execution_count": 18,
   "metadata": {},
   "outputs": [],
   "source": [
    "def calc_rmse(labels, preds):\n",
    "    \"\"\"tbd\"\"\"\n",
    "    return np.sqrt(np.mean((preds - labels) ** 2))\n",
    "\n",
    "\n",
    "def calc_mae(labels, preds):\n",
    "    \"\"\"tbd\"\"\"\n",
    "    return np.mean(np.abs(preds - labels))"
   ]
  },
  {
   "cell_type": "code",
   "execution_count": null,
   "metadata": {},
   "outputs": [],
   "source": []
  },
  {
   "cell_type": "code",
   "execution_count": 31,
   "metadata": {},
   "outputs": [],
   "source": [
    "def seperate(filename,thershold=2):\n",
    "    with open(f\"./log/{filename}.pickle\",\"rb\") as f:\n",
    "        dic=pickle.load(f)\n",
    "    preds=np.array(dic[\"pred\"])\n",
    "    labels=np.array(dic[\"label\"])\n",
    "    if filename==\"qm7\":\n",
    "        th=calc_mae(labels, preds)\n",
    "    else:\n",
    "        th=calc_rmse(labels, preds)\n",
    "    pd_dic={\"smiles\":[],\"pred\":[],\"label\":[],\"diff\":[],\"thershold\":[]}\n",
    "    for i in range(len(dic[\"smiles\"])):\n",
    "        if abs(dic[\"pred\"][i]-dic[\"label\"][i])>thershold:\n",
    "            pd_dic[\"smiles\"].append(dic[\"smiles\"][i])\n",
    "            pd_dic[\"label\"].append(dic[\"label\"][i])\n",
    "            pd_dic[\"pred\"].append(dic[\"pred\"][i])\n",
    "\n",
    "            pd_dic[\"diff\"].append(dic[\"label\"][i]-dic[\"pred\"][i])\n",
    "            pd_dic[\"thershold\"].append(thershold)\n",
    "    df = pd.DataFrame.from_dict(pd_dic)\n",
    "    df.to_csv(\"./log/\"+filename+\"-th=\"+str(thershold)+\".csv\",index=False)\n",
    "\n"
   ]
  },
  {
   "cell_type": "code",
   "execution_count": 36,
   "metadata": {},
   "outputs": [],
   "source": [
    "for dataset in [\"esol\",\"freesolv\",\"lipophilicity\",\"qm7\",]:\n",
    "    for th in [1.5,2,1,0.75]:\n",
    "        seperate(dataset,thershold=th)"
   ]
  },
  {
   "cell_type": "code",
   "execution_count": 39,
   "metadata": {},
   "outputs": [
    {
     "data": {
      "text/plain": [
       "[-9.630000114440918,\n",
       " -8.40999984741211,\n",
       " -10.270000457763672,\n",
       " -7.769999980926514,\n",
       " -7.579999923706055,\n",
       " -7.400000095367432,\n",
       " -10.220000267028809,\n",
       " -7.650000095367432,\n",
       " -6.679999828338623,\n",
       " -4.099999904632568,\n",
       " 0.75,\n",
       " -4.610000133514404,\n",
       " -5.449999809265137,\n",
       " -5.039999961853027,\n",
       " -5.510000228881836,\n",
       " -5.739999771118164,\n",
       " -9.609999656677246,\n",
       " -5.179999828338623,\n",
       " -4.510000228881836,\n",
       " -2.890000104904175,\n",
       " -4.78000020980835,\n",
       " -1.3799999952316284,\n",
       " -1.399999976158142,\n",
       " -9.800000190734863,\n",
       " -5.480000019073486,\n",
       " -5.110000133514404,\n",
       " -3.880000114440918,\n",
       " -6.320000171661377,\n",
       " -7.170000076293945,\n",
       " -5.059999942779541,\n",
       " 0.5600000023841858,\n",
       " -4.519999980926514,\n",
       " -4.820000171661377,\n",
       " -4.230000019073486,\n",
       " 3.430000066757202,\n",
       " -2.450000047683716,\n",
       " -5.71999979019165,\n",
       " -9.010000228881836,\n",
       " -10.779999732971191,\n",
       " -7.429999828338623,\n",
       " -7.630000114440918,\n",
       " -3.3499999046325684,\n",
       " -2.7799999713897705,\n",
       " -2.869999885559082,\n",
       " -9.34000015258789,\n",
       " -3.440000057220459,\n",
       " -5.880000114440918,\n",
       " -8.609999656677246,\n",
       " -3.950000047683716,\n",
       " -2.549999952316284,\n",
       " -4.699999809265137,\n",
       " -10.029999732971191,\n",
       " -18.059999465942383,\n",
       " -6.5,\n",
       " -3.880000114440918,\n",
       " -12.640000343322754,\n",
       " -9.609999656677246,\n",
       " -3.1500000953674316,\n",
       " -3.7799999713897705,\n",
       " -0.9900000095367432,\n",
       " -16.43000030517578,\n",
       " -5.559999942779541,\n",
       " -6.78000020980835,\n",
       " -5.480000019073486,\n",
       " -1.4600000381469727]"
      ]
     },
     "execution_count": 39,
     "metadata": {},
     "output_type": "execute_result"
    }
   ],
   "source": [
    "filename=\"freesolv\"\n",
    "with open(f\"./log/{filename}.pickle\",\"rb\") as f:\n",
    "    a=pickle.load(f)\n",
    "a[\"label\"]"
   ]
  },
  {
   "cell_type": "code",
   "execution_count": 30,
   "metadata": {},
   "outputs": [],
   "source": [
    "mol=esol_pickle[sample_smiles][0]"
   ]
  },
  {
   "cell_type": "code",
   "execution_count": 21,
   "metadata": {},
   "outputs": [
    {
     "data": {
      "text/plain": [
       "list"
      ]
     },
     "execution_count": 21,
     "metadata": {},
     "output_type": "execute_result"
    }
   ],
   "source": [
    "type(atom_poses)"
   ]
  },
  {
   "cell_type": "code",
   "execution_count": 31,
   "metadata": {},
   "outputs": [],
   "source": [
    "if len(mol.GetAtoms()) <= 400:\n",
    "    mol, atom_poses = Compound3DKit.get_MMFF_atom_poses(mol, numConfs=10)\n",
    "else:\n",
    "    atom_poses = Compound3DKit.get_2d_atom_poses(mol)\n",
    "atom_poses = Compound3DKit.get_atom_poses(mol, mol.GetConformer())\n",
    "data_dic_geo=mol_to_geognn_graph_data(mol, atom_poses, dir_type='HT')"
   ]
  },
  {
   "cell_type": "code",
   "execution_count": null,
   "metadata": {},
   "outputs": [],
   "source": [
    "dataset = InMemoryDataset(data_list)"
   ]
  },
  {
   "cell_type": "code",
   "execution_count": 34,
   "metadata": {},
   "outputs": [
    {
     "ename": "KeyError",
     "evalue": "'smiles'",
     "output_type": "error",
     "traceback": [
      "\u001b[1;31m---------------------------------------------------------------------------\u001b[0m",
      "\u001b[1;31mKeyError\u001b[0m                                  Traceback (most recent call last)",
      "\u001b[1;32m~\\AppData\\Local\\Temp\\ipykernel_18676\\2855624501.py\u001b[0m in \u001b[0;36m<module>\u001b[1;34m\u001b[0m\n\u001b[1;32m----> 1\u001b[1;33m \u001b[0mdata_dic_geo\u001b[0m\u001b[1;33m[\u001b[0m\u001b[1;34m\"smiles\"\u001b[0m\u001b[1;33m]\u001b[0m\u001b[1;33m\u001b[0m\u001b[1;33m\u001b[0m\u001b[0m\n\u001b[0m",
      "\u001b[1;31mKeyError\u001b[0m: 'smiles'"
     ]
    }
   ],
   "source": [
    "data_dic_geo[\"smiles\"]"
   ]
  },
  {
   "cell_type": "code",
   "execution_count": 36,
   "metadata": {},
   "outputs": [
    {
     "data": {
      "text/plain": [
       "dict_keys(['atomic_num', 'chiral_tag', 'degree', 'explicit_valence', 'formal_charge', 'hybridization', 'implicit_valence', 'is_aromatic', 'total_numHs', 'mass', 'bond_dir', 'bond_type', 'is_in_ring', 'edges', 'morgan_fp', 'maccs_fp', 'daylight_fg_counts', 'atom_pos', 'bond_length', 'BondAngleGraph_edges', 'bond_angle'])"
      ]
     },
     "execution_count": 36,
     "metadata": {},
     "output_type": "execute_result"
    }
   ],
   "source": [
    "data_dic_geo.keys()"
   ]
  },
  {
   "cell_type": "code",
   "execution_count": 45,
   "metadata": {},
   "outputs": [
    {
     "name": "stdout",
     "output_type": "stream",
     "text": [
      "atomic_num.seq_len\n",
      "atomic_num.singular\n",
      "chiral_tag.seq_len\n",
      "chiral_tag.singular\n",
      "degree.seq_len\n",
      "degree.singular\n",
      "explicit_valence.seq_len\n",
      "explicit_valence.singular\n",
      "formal_charge.seq_len\n",
      "formal_charge.singular\n",
      "hybridization.seq_len\n",
      "hybridization.singular\n",
      "implicit_valence.seq_len\n",
      "implicit_valence.singular\n",
      "is_aromatic.seq_len\n",
      "is_aromatic.singular\n",
      "total_numHs.seq_len\n",
      "total_numHs.singular\n",
      "mass.seq_len\n",
      "mass.singular\n",
      "bond_dir.seq_len\n",
      "bond_dir.singular\n",
      "bond_type.seq_len\n",
      "bond_type.singular\n",
      "is_in_ring.seq_len\n",
      "is_in_ring.singular\n",
      "edges.seq_len\n",
      "edges.singular\n",
      "morgan_fp.seq_len\n",
      "morgan_fp.singular\n",
      "maccs_fp.seq_len\n",
      "maccs_fp.singular\n",
      "daylight_fg_counts.seq_len\n",
      "daylight_fg_counts.singular\n",
      "atom_pos.seq_len\n",
      "atom_pos.singular\n",
      "bond_length.seq_len\n",
      "bond_length.singular\n",
      "BondAngleGraph_edges.seq_len\n",
      "BondAngleGraph_edges.singular\n",
      "bond_angle.seq_len\n",
      "bond_angle.singular\n",
      "label\n",
      "label.seq_len\n",
      "label.singular\n",
      "smiles\n",
      "smiles.seq_len\n",
      "smiles.singular\n"
     ]
    }
   ],
   "source": [
    "for key in data_dic.keys():\n",
    "    if key not in new_dataset[0].keys():\n",
    "        print(key)"
   ]
  },
  {
   "cell_type": "code",
   "execution_count": null,
   "metadata": {},
   "outputs": [],
   "source": [
    "dataset = InMemoryDataset(data_list)"
   ]
  },
  {
   "cell_type": "code",
   "execution_count": 3,
   "metadata": {},
   "outputs": [],
   "source": [
    "f=open(\"cached_data/bbbp/bbbp.pkl\",\"rb\")\n",
    "esol_pickle=pickle.load(f)"
   ]
  },
  {
   "cell_type": "code",
   "execution_count": 5,
   "metadata": {},
   "outputs": [],
   "source": [
    "bbbp_geo_smiles=list(esol_pickle.keys())"
   ]
  },
  {
   "cell_type": "code",
   "execution_count": 11,
   "metadata": {},
   "outputs": [],
   "source": [
    "import pandas as pd\n",
    "bbbp_smiles=pd.read_csv(\"chemrl_downstream_datasets/bbbp/raw/BBBP.csv\")[\"smiles\"]"
   ]
  },
  {
   "cell_type": "code",
   "execution_count": 13,
   "metadata": {},
   "outputs": [
    {
     "data": {
      "text/plain": [
       "1928"
      ]
     },
     "execution_count": 13,
     "metadata": {},
     "output_type": "execute_result"
    }
   ],
   "source": [
    "count=0\n",
    "for smiles in bbbp_smiles:\n",
    "    if smiles in bbbp_geo_smiles:\n",
    "        count+=1\n",
    "count"
   ]
  },
  {
   "cell_type": "code",
   "execution_count": null,
   "metadata": {},
   "outputs": [],
   "source": [
    "esol_pickle"
   ]
  },
  {
   "cell_type": "code",
   "execution_count": 7,
   "metadata": {},
   "outputs": [],
   "source": [
    "sample_smiles=\"OCC3OC(OCC2OC(OC(C#N)c1ccccc1)C(O)C(O)C2O)C(O)C(O)C3O \""
   ]
  },
  {
   "cell_type": "code",
   "execution_count": 53,
   "metadata": {},
   "outputs": [
    {
     "data": {
      "text/plain": [
       "(14991, 3)"
      ]
     },
     "execution_count": 53,
     "metadata": {},
     "output_type": "execute_result"
    }
   ],
   "source": [
    "data_dic[\"atom_pos\"].shape"
   ]
  },
  {
   "cell_type": "code",
   "execution_count": 37,
   "metadata": {},
   "outputs": [],
   "source": [
    "data=np.load(\"cached_data/esol/part-000000.npz\")\n",
    "data_dic=dict(data)\n",
    "len(data_dic[\"smiles\"])\n",
    "for smiles in data_dic[\"smiles\"]:\n",
    "    mol=esol_pickle[smiles][0]\n",
    "    atom_poses = Compound3DKit.get_atom_poses(mol, mol.GetConformer())\n",
    "    new_mol_dic=mol_to_geognn_graph_data(mol, atom_poses, dir_type='HT')\n",
    "    new_dataset.append(new_mol_dic)\n",
    "    \n",
    "    "
   ]
  },
  {
   "cell_type": "code",
   "execution_count": 40,
   "metadata": {},
   "outputs": [],
   "source": [
    "new_dataset = InMemoryDataset(new_dataset)"
   ]
  },
  {
   "cell_type": "code",
   "execution_count": 43,
   "metadata": {},
   "outputs": [
    {
     "data": {
      "text/plain": [
       "dict_keys(['atomic_num', 'chiral_tag', 'degree', 'explicit_valence', 'formal_charge', 'hybridization', 'implicit_valence', 'is_aromatic', 'total_numHs', 'mass', 'bond_dir', 'bond_type', 'is_in_ring', 'edges', 'morgan_fp', 'maccs_fp', 'daylight_fg_counts', 'atom_pos', 'bond_length', 'BondAngleGraph_edges', 'bond_angle'])"
      ]
     },
     "execution_count": 43,
     "metadata": {},
     "output_type": "execute_result"
    }
   ],
   "source": [
    "new_dataset[0].keys()"
   ]
  },
  {
   "cell_type": "code",
   "execution_count": 28,
   "metadata": {},
   "outputs": [],
   "source": [
    "data=np.load(\"cached_data/esol/part-000000.npz\")"
   ]
  },
  {
   "cell_type": "code",
   "execution_count": 29,
   "metadata": {},
   "outputs": [
    {
     "data": {
      "text/plain": [
       "1128"
      ]
     },
     "execution_count": 29,
     "metadata": {},
     "output_type": "execute_result"
    }
   ],
   "source": [
    "data_dic=dict(data)\n",
    "len(data_dic[\"smiles\"])"
   ]
  },
  {
   "cell_type": "code",
   "execution_count": 21,
   "metadata": {},
   "outputs": [
    {
     "data": {
      "text/plain": [
       "dict_keys(['atomic_num', 'atomic_num.seq_len', 'atomic_num.singular', 'chiral_tag', 'chiral_tag.seq_len', 'chiral_tag.singular', 'degree', 'degree.seq_len', 'degree.singular', 'explicit_valence', 'explicit_valence.seq_len', 'explicit_valence.singular', 'formal_charge', 'formal_charge.seq_len', 'formal_charge.singular', 'hybridization', 'hybridization.seq_len', 'hybridization.singular', 'implicit_valence', 'implicit_valence.seq_len', 'implicit_valence.singular', 'is_aromatic', 'is_aromatic.seq_len', 'is_aromatic.singular', 'total_numHs', 'total_numHs.seq_len', 'total_numHs.singular', 'mass', 'mass.seq_len', 'mass.singular', 'bond_dir', 'bond_dir.seq_len', 'bond_dir.singular', 'bond_type', 'bond_type.seq_len', 'bond_type.singular', 'is_in_ring', 'is_in_ring.seq_len', 'is_in_ring.singular', 'edges', 'edges.seq_len', 'edges.singular', 'morgan_fp', 'morgan_fp.seq_len', 'morgan_fp.singular', 'maccs_fp', 'maccs_fp.seq_len', 'maccs_fp.singular', 'daylight_fg_counts', 'daylight_fg_counts.seq_len', 'daylight_fg_counts.singular', 'atom_pos', 'atom_pos.seq_len', 'atom_pos.singular', 'bond_length', 'bond_length.seq_len', 'bond_length.singular', 'BondAngleGraph_edges', 'BondAngleGraph_edges.seq_len', 'BondAngleGraph_edges.singular', 'bond_angle', 'bond_angle.seq_len', 'bond_angle.singular', 'label', 'label.seq_len', 'label.singular', 'smiles', 'smiles.seq_len', 'smiles.singular'])"
      ]
     },
     "execution_count": 21,
     "metadata": {},
     "output_type": "execute_result"
    }
   ],
   "source": [
    "data_dic.keys()"
   ]
  },
  {
   "cell_type": "code",
   "execution_count": null,
   "metadata": {},
   "outputs": [],
   "source": []
  }
 ],
 "metadata": {
  "kernelspec": {
   "display_name": "pvd",
   "language": "python",
   "name": "python3"
  },
  "language_info": {
   "codemirror_mode": {
    "name": "ipython",
    "version": 3
   },
   "file_extension": ".py",
   "mimetype": "text/x-python",
   "name": "python",
   "nbconvert_exporter": "python",
   "pygments_lexer": "ipython3",
   "version": "3.7.10"
  },
  "orig_nbformat": 4
 },
 "nbformat": 4,
 "nbformat_minor": 2
}
