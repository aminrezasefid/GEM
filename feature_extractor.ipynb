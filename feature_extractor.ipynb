{
 "cells": [
  {
   "cell_type": "code",
   "execution_count": 1,
   "metadata": {},
   "outputs": [],
   "source": [
    "import os\n",
    "from os.path import join, exists, basename\n",
    "import argparse\n",
    "import numpy as np\n",
    "import paddle.fluid as fluid\n",
    "import paddle\n",
    "paddle.seed(0)\n",
    "import random\n",
    "np.random.seed(42) \n",
    "random.seed(42)\n",
    "fluid.default_startup_program().random_seed = 42\n",
    "fluid.default_main_program().random_seed = 42\n",
    "import paddle.nn as nn\n",
    "import pgl\n",
    "\n",
    "from pahelix.model_zoo.gem_model import GeoGNNModel\n",
    "from pahelix.utils import load_json_config\n",
    "from pahelix.datasets.inmemory_dataset import InMemoryDataset\n",
    "\n",
    "from src.model import DownstreamModel\n",
    "from src.featurizer import DownstreamTransformFn, DownstreamCollateFn\n",
    "from src.utils import get_dataset, create_splitter, get_downstream_task_names, get_dataset_stat, \\\n",
    "        calc_rocauc_score, calc_rmse, calc_mae, exempt_parameters\n"
   ]
  },
  {
   "cell_type": "code",
   "execution_count": null,
   "metadata": {},
   "outputs": [],
   "source": [
    "def feature_extract_regr(args, model,dataset, collate_fn, metric):\n",
    "    data_gen = dataset.get_data_loader(\n",
    "            batch_size=args.batch_size, \n",
    "            num_workers=args.num_workers, \n",
    "            shuffle=False,\n",
    "            collate_fn=collate_fn)\n",
    "    total_features=[]\n",
    "    total_label = []\n",
    "    smiles_list=[]\n",
    "    model.eval()\n",
    "    for atom_bond_graphs, bond_angle_graphs, labels,smiles,atom_poses in data_gen:\n",
    "        atom_bond_graphs = atom_bond_graphs.tensor()\n",
    "        bond_angle_graphs = bond_angle_graphs.tensor()\n",
    "        labels = paddle.to_tensor(labels, 'float32')\n",
    "        features = model(atom_bond_graphs, bond_angle_graphs)\n",
    "        smiles_list.extend(smiles)\n",
    "        total_features.append(total_features)\n",
    "        total_label.append(labels.numpy())\n",
    "    total_features = np.concatenate(features, 0)\n",
    "    total_label = np.concatenate(total_label, 0)\n",
    "    final_dic={\"smiles\":[],\"features\":[]}\n",
    "    task_names = get_downstream_task_names(args.dataset_name, args.data_path)\n",
    "    for task_name in task_names:\n",
    "        final_dic[\"lbl_\"+task_name]=[]\n",
    "    for i in range(total_label.shape[0]):\n",
    "        final_dic[\"smiles\"].append(smiles_list[i])\n",
    "        final_dic[\"features\"].append(total_features[i])\n",
    "        for j in range(len(total_label[i])):\n",
    "            final_dic[\"lbl_\"+task_names[j]].append(total_label[i][j].item())\n",
    "    import pickle\n",
    "    with open(f'./{args.model_dir}/{args.dataset_name}-{args.mode}-seed={args.seed}.pickle', 'wb') as handle:\n",
    "        pickle.dump(final_dic, handle, protocol=pickle.HIGHEST_PROTOCOL)\n"
   ]
  }
 ],
 "metadata": {
  "kernelspec": {
   "display_name": "gem",
   "language": "python",
   "name": "python3"
  },
  "language_info": {
   "codemirror_mode": {
    "name": "ipython",
    "version": 3
   },
   "file_extension": ".py",
   "mimetype": "text/x-python",
   "name": "python",
   "nbconvert_exporter": "python",
   "pygments_lexer": "ipython3",
   "version": "3.7.12"
  }
 },
 "nbformat": 4,
 "nbformat_minor": 2
}
